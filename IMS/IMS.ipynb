{
 "cells": [
  {
   "cell_type": "code",
   "execution_count": 41,
   "id": "32e6a8a2-3635-41d9-8434-957b8446507a",
   "metadata": {},
   "outputs": [],
   "source": [
    "records = {\"1001\": {'name': 'Cookies', 'qn': 34, 'pr': 230},\n",
    "           \"1002\": {'name': 'Milky bar', 'qn': 400, 'pr': 15}, \n",
    "           \"1003\": {'name': 'Pen', 'qn': 60, 'pr': 20} ,\n",
    "           \"1004\": {'name': 'LongBook', 'qn': 80, 'pr': 56},\n",
    "           \"1005\": {'name': 'Pencil', 'qn': 50, 'pr': 5},\n",
    "           \"1006\": {'name': 'DrawingBok', 'qn': 40, 'pr': 150},\n",
    "           \"1007\": {'name': 'Soap', 'qn': 70, 'pr': 75},\n",
    "           \"1008\": {'name': 'Nutrella', 'qn': 50, 'pr': 100},\n",
    "           \"1009\": {'name': 'Snacks', 'qn': 700, 'pr': 20},\n",
    "           \"1010\": {'name': 'NoteBook', 'qn': 85, 'pr': 98},\n",
    "           \"1011\": {'name': 'Handwash', 'qn': 300, 'pr': 72},\n",
    "           \"1012\": {'name': 'Sanitizer', 'qn': 400, 'pr': 23},\n",
    "           \"1013\": {'name': 'Stapler', 'qn': 124, 'pr': 155},\n",
    "           \"1014\": {'name': 'Eraser', 'qn': 180, 'pr': 5},\n",
    "           \"1015\": {'name': 'ChocolateCake', 'qn': 300, 'pr': 120}}"
   ]
  },
  {
   "cell_type": "code",
   "execution_count": 42,
   "id": "83d1368e-75b4-4c73-8e5a-3b74dea1a069",
   "metadata": {},
   "outputs": [
    {
     "data": {
      "text/plain": [
       "{'1001': {'name': 'Cookies', 'qn': 34, 'pr': 230},\n",
       " '1002': {'name': 'Milky bar', 'qn': 400, 'pr': 15},\n",
       " '1003': {'name': 'Pen', 'qn': 60, 'pr': 20},\n",
       " '1004': {'name': 'LongBook', 'qn': 80, 'pr': 56},\n",
       " '1005': {'name': 'Pencil', 'qn': 50, 'pr': 5},\n",
       " '1006': {'name': 'DrawingBok', 'qn': 40, 'pr': 150},\n",
       " '1007': {'name': 'Soap', 'qn': 70, 'pr': 75},\n",
       " '1008': {'name': 'Nutrella', 'qn': 50, 'pr': 100},\n",
       " '1009': {'name': 'Snacks', 'qn': 700, 'pr': 20},\n",
       " '1010': {'name': 'NoteBook', 'qn': 85, 'pr': 98},\n",
       " '1011': {'name': 'Handwash', 'qn': 300, 'pr': 72},\n",
       " '1012': {'name': 'Sanitizer', 'qn': 400, 'pr': 23},\n",
       " '1013': {'name': 'Stapler', 'qn': 124, 'pr': 155},\n",
       " '1014': {'name': 'Eraser', 'qn': 180, 'pr': 5},\n",
       " '1015': {'name': 'ChocolateCake', 'qn': 300, 'pr': 120}}"
      ]
     },
     "execution_count": 42,
     "metadata": {},
     "output_type": "execute_result"
    }
   ],
   "source": [
    "records"
   ]
  },
  {
   "cell_type": "code",
   "execution_count": 43,
   "id": "6b0227de-8bde-4984-b925-6e32387bd3e9",
   "metadata": {},
   "outputs": [],
   "source": [
    "import json\n",
    "js =json.dumps(records)\n",
    "\n",
    "fd = open(\"records.json\",'w')\n",
    "fd.write(js)\n",
    "fd.close()"
   ]
  },
  {
   "cell_type": "code",
   "execution_count": 44,
   "id": "33d07f3a-f595-4c2d-a6a1-f8d812c3d943",
   "metadata": {},
   "outputs": [],
   "source": [
    "fd = open('records.json', 'r')\n",
    "t = fd.read()\n",
    "fd.close()\n",
    "\n",
    "fd = open('records.json','w')\n",
    "fd.write(t)\n",
    "fd.close()\n",
    "\n",
    "sales = {}\n",
    "\n",
    "sales = json.dumps(sales)\n",
    "\n",
    "fd = open(\"sales.json\", 'w')\n",
    "fd.write(sales)\n",
    "fd.close()"
   ]
  },
  {
   "cell_type": "code",
   "execution_count": 45,
   "id": "b3ad09c9-218c-4bb6-ae1e-f577400ef14e",
   "metadata": {},
   "outputs": [],
   "source": [
    "import json\n",
    "import time"
   ]
  },
  {
   "cell_type": "code",
   "execution_count": 46,
   "id": "46a93c7d-7173-44d1-88f1-94b941a1d547",
   "metadata": {},
   "outputs": [],
   "source": [
    "fd = open('records.json','r')\n",
    "t = fd.read()\n",
    "fd.close()\n",
    "dct = json.loads(t)"
   ]
  },
  {
   "cell_type": "code",
   "execution_count": 47,
   "id": "5549f209-1584-4070-b3cd-7cd3a0c3c6d1",
   "metadata": {},
   "outputs": [
    {
     "data": {
      "text/plain": [
       "dict_keys(['1001', '1002', '1003', '1004', '1005', '1006', '1007', '1008', '1009', '1010', '1011', '1012', '1013', '1014', '1015'])"
      ]
     },
     "execution_count": 47,
     "metadata": {},
     "output_type": "execute_result"
    }
   ],
   "source": [
    "fd = open(\"sales.json\", 'r')\n",
    "sl = fd.read()\n",
    "fd.close()\n",
    "sales = json.loads(sl)\n",
    "dct.keys()"
   ]
  },
  {
   "cell_type": "code",
   "execution_count": 48,
   "id": "5459f209-e5ba-4456-ab80-593495dc77ea",
   "metadata": {},
   "outputs": [
    {
     "name": "stdout",
     "output_type": "stream",
     "text": [
      "**********************************************\n",
      "1001 {'name': 'Cookies', 'qn': 34, 'pr': 230}\n",
      "1002 {'name': 'Milky bar', 'qn': 400, 'pr': 15}\n",
      "1003 {'name': 'Pen', 'qn': 60, 'pr': 20}\n",
      "1004 {'name': 'LongBook', 'qn': 80, 'pr': 56}\n",
      "1005 {'name': 'Pencil', 'qn': 50, 'pr': 5}\n",
      "1006 {'name': 'DrawingBok', 'qn': 40, 'pr': 150}\n",
      "1007 {'name': 'Soap', 'qn': 70, 'pr': 75}\n",
      "1008 {'name': 'Nutrella', 'qn': 50, 'pr': 100}\n",
      "1009 {'name': 'Snacks', 'qn': 700, 'pr': 20}\n",
      "1010 {'name': 'NoteBook', 'qn': 85, 'pr': 98}\n",
      "1011 {'name': 'Handwash', 'qn': 300, 'pr': 72}\n",
      "1012 {'name': 'Sanitizer', 'qn': 400, 'pr': 23}\n",
      "1013 {'name': 'Stapler', 'qn': 124, 'pr': 155}\n",
      "1014 {'name': 'Eraser', 'qn': 180, 'pr': 5}\n",
      "1015 {'name': 'ChocolateCake', 'qn': 300, 'pr': 120}\n",
      "******************************************\n",
      "\n"
     ]
    },
    {
     "name": "stdin",
     "output_type": "stream",
     "text": [
      "Enter the product_Id:  1001\n",
      "Enter the quantity:  40\n"
     ]
    },
    {
     "name": "stdout",
     "output_type": "stream",
     "text": [
      "Sorry, We are not having that much of quantity.\n",
      "We're only having 34 quantity.\n",
      "Would you like to purchase or not (Y/N)\n"
     ]
    },
    {
     "name": "stdin",
     "output_type": "stream",
     "text": [
      "Y/N Y\n"
     ]
    },
    {
     "name": "stdout",
     "output_type": "stream",
     "text": [
      "Name: Cookies\n",
      "Price: 230\n",
      "Quantity: 34\n",
      "------------------------------\n",
      "Billing Amount: 7820\n",
      "------------------------------\n",
      "Data Updated in Sales File!\n",
      "Data Updated in Inventory File!\n"
     ]
    }
   ],
   "source": [
    "print(\"**********************************************\")\n",
    "for i in dct.keys():\n",
    "  print(i, dct[i])\n",
    "\n",
    "print(\"******************************************\\n\")\n",
    "ui_prod  = str(input(\"Enter the product_Id: \"))\n",
    "ui_quant = int(input(\"Enter the quantity: \"))\n",
    "\n",
    "\n",
    "if (ui_prod in dct.keys()):                                                     \n",
    "    if (dct[ui_prod]['qn'] >= ui_quant):                                        \n",
    "      print(\"Name:\",dct[ui_prod]['name'])\n",
    "      print(\"Price:\",dct[ui_prod]['pr'])\n",
    "      print(\"Quantity:\", ui_quant)\n",
    "      print(\"------------------------------\")\n",
    "      print(\"Billing Amount:\", dct[ui_prod]['pr'] * ui_quant)\n",
    "\n",
    "      dct[ui_prod]['qn'] = dct[ui_prod]['qn'] - ui_quant                        \n",
    "\n",
    "      sales[str(len(sales)+1)] = {'prod_id' : ui_prod,                          \n",
    "                                  \"time_pr\" :  time.ctime(), \n",
    "                                  'bill' : dct[ui_prod]['pr'] * ui_quant, \n",
    "                                  'qn' : ui_quant, \n",
    "                                  'pr' : dct[ui_prod]['pr'], \n",
    "                                  'pr_name' : dct[ui_prod]['name']}\n",
    "\n",
    "\n",
    "    else:                                                                       \n",
    "      print(\"Sorry, We are not having that much of quantity.\")\n",
    "      print(\"We're only having\",dct[ui_prod]['qn'],\"quantity.\")\n",
    "      print(\"Would you like to purchase or not (Y/N)\")\n",
    "      ch = str(input(\"Y/N\"))\n",
    "      if (ch == \"Y\"):                                                          \n",
    "        print(\"Name:\",dct[ui_prod]['name'])\n",
    "        print(\"Price:\",dct[ui_prod]['pr'])\n",
    "        print(\"Quantity:\", dct[ui_prod]['qn'])\n",
    "        print(\"------------------------------\")\n",
    "        print(\"Billing Amount:\", dct[ui_prod]['pr'] * dct[ui_prod]['qn'])\n",
    "\n",
    "        dct[ui_prod]['qn'] = 0                                                  \n",
    "        sales[str(len(sales)+1)] = {'prod_id' : ui_prod,                        \n",
    "                                    \"time_pr\" :  time.ctime(), \n",
    "                                    'bill' : dct[ui_prod]['pr'] * dct[ui_prod]['qn'], \n",
    "                                    'qn' : dct[ui_prod]['qn'], \n",
    "                                    'pr' : dct[ui_prod]['pr'], \n",
    "                                    'pr_name' : dct[ui_prod]['name']}\n",
    "\n",
    "      else:                                                                     \n",
    "        print(\"Thankyou!\")\n",
    "\n",
    "else:                                                                           \n",
    "  print(\"------------------------------\")\n",
    "  print(\"Product doesn't exist!\")\n",
    "  print(\"Please enter a valid product id\")\n",
    "  print(\"------------------------------\")\n",
    "\n",
    "\n",
    "\n",
    "sl = json.dumps(sales)                                                          \n",
    "fd = open('sales.json','w')\n",
    "fd.write(sl)\n",
    "fd.close()\n",
    "\n",
    "print(\"------------------------------\")\n",
    "print(\"Data Updated in Sales File!\")\n",
    "js = json.dumps(dct)                                                            \n",
    "fd = open('records.json','w')\n",
    "fd.write(js)\n",
    "fd.close()\n",
    "\n",
    "print(\"Data Updated in Inventory File!\")"
   ]
  },
  {
   "cell_type": "code",
   "execution_count": 49,
   "id": "9fc53bc3-54c1-4856-be23-5bd42527b5f2",
   "metadata": {},
   "outputs": [
    {
     "data": {
      "text/plain": [
       "{'1001': {'name': 'Cookies', 'qn': 0, 'pr': 230},\n",
       " '1002': {'name': 'Milky bar', 'qn': 400, 'pr': 15},\n",
       " '1003': {'name': 'Pen', 'qn': 60, 'pr': 20},\n",
       " '1004': {'name': 'LongBook', 'qn': 80, 'pr': 56},\n",
       " '1005': {'name': 'Pencil', 'qn': 50, 'pr': 5},\n",
       " '1006': {'name': 'DrawingBok', 'qn': 40, 'pr': 150},\n",
       " '1007': {'name': 'Soap', 'qn': 70, 'pr': 75},\n",
       " '1008': {'name': 'Nutrella', 'qn': 50, 'pr': 100},\n",
       " '1009': {'name': 'Snacks', 'qn': 700, 'pr': 20},\n",
       " '1010': {'name': 'NoteBook', 'qn': 85, 'pr': 98},\n",
       " '1011': {'name': 'Handwash', 'qn': 300, 'pr': 72},\n",
       " '1012': {'name': 'Sanitizer', 'qn': 400, 'pr': 23},\n",
       " '1013': {'name': 'Stapler', 'qn': 124, 'pr': 155},\n",
       " '1014': {'name': 'Eraser', 'qn': 180, 'pr': 5},\n",
       " '1015': {'name': 'ChocolateCake', 'qn': 300, 'pr': 120}}"
      ]
     },
     "execution_count": 49,
     "metadata": {},
     "output_type": "execute_result"
    }
   ],
   "source": [
    "dct"
   ]
  },
  {
   "cell_type": "code",
   "execution_count": 50,
   "id": "772e11fb-1a89-4377-87dc-47a11226b7fa",
   "metadata": {},
   "outputs": [
    {
     "data": {
      "text/plain": [
       "{'1': {'prod_id': '1001',\n",
       "  'time_pr': 'Fri Sep 10 22:49:23 2021',\n",
       "  'bill': 0,\n",
       "  'qn': 0,\n",
       "  'pr': 230,\n",
       "  'pr_name': 'Cookies'}}"
      ]
     },
     "execution_count": 50,
     "metadata": {},
     "output_type": "execute_result"
    }
   ],
   "source": [
    "sales"
   ]
  },
  {
   "cell_type": "code",
   "execution_count": null,
   "id": "ecb8f4a8-50cd-458f-a479-3578340130cf",
   "metadata": {},
   "outputs": [],
   "source": []
  }
 ],
 "metadata": {
  "kernelspec": {
   "display_name": "Python 3",
   "language": "python",
   "name": "python3"
  },
  "language_info": {
   "codemirror_mode": {
    "name": "ipython",
    "version": 3
   },
   "file_extension": ".py",
   "mimetype": "text/x-python",
   "name": "python",
   "nbconvert_exporter": "python",
   "pygments_lexer": "ipython3",
   "version": "3.8.8"
  }
 },
 "nbformat": 4,
 "nbformat_minor": 5
}
